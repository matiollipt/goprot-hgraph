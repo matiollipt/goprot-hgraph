{
 "cells": [
  {
   "cell_type": "markdown",
   "metadata": {},
   "source": [
    "# Aid2GO Evaluation of Predictions\n",
    "Author: Cleverson Matiolli Ph.D."
   ]
  },
  {
   "cell_type": "code",
   "execution_count": null,
   "metadata": {},
   "outputs": [],
   "source": [
    "# Standard libraries\n",
    "from pathlib import Path\n",
    "\n",
    "# Third party libraries\n",
    "import pandas as pd\n",
    "import numpy as np\n",
    "\n",
    "# Bioinformatics\n",
    "from obonet import read_obo\n",
    "import networkx as nx\n",
    "from cafaeval.evaluation import cafa_eval, write_results\n",
    "\n",
    "# Configuration\n",
    "pd.options.mode.copy_on_write = True\n",
    "\n",
    "# Define folder paths\n",
    "base_dir = Path(Path.cwd())\n",
    "print(f\"Base directory: {base_dir}\")"
   ]
  },
  {
   "cell_type": "markdown",
   "metadata": {},
   "source": [
    "## Load Input Files"
   ]
  },
  {
   "cell_type": "markdown",
   "metadata": {},
   "source": [
    "### Load Predictions"
   ]
  },
  {
   "cell_type": "code",
   "execution_count": null,
   "metadata": {},
   "outputs": [],
   "source": [
    "# Load predictions\n",
    "test_results = pd.read_csv(\n",
    "    base_dir / \"outputs/models/focused_128_1:2/test_results.csv\"\n",
    ")\n",
    "\n",
    "print(f\"test results shape: {test_results.shape}\")\n",
    "test_results.head()"
   ]
  },
  {
   "cell_type": "code",
   "execution_count": null,
   "metadata": {},
   "outputs": [],
   "source": [
    "# Get predictions in CAFA format for evaluation\n",
    "predictions = test_results[\n",
    "    [\"Protein ID\", \"GO ID\", \"Probability\"]\n",
    "]  # Only associations and probs\n",
    "predictions[\"Probability\"] = predictions[\"Probability\"].round(\n",
    "    3\n",
    ")  # cafa evaluate 3 decimals\n",
    "\n",
    "# Sort by protein identiiers (optional), reset index and save\n",
    "predictions = predictions.sort_values(by=\"Protein ID\")\n",
    "predictions.reset_index(drop=True, inplace=True)\n",
    "predictions.to_csv(\n",
    "    base_dir / \"predictions/predictions.tsv\",\n",
    "    sep=\"\\t\",\n",
    "    header=False,\n",
    "    index=False,\n",
    "    encoding=\"utf-8\",\n",
    ")\n",
    "predictions"
   ]
  },
  {
   "cell_type": "markdown",
   "metadata": {},
   "source": [
    "### Load Ground-truth (Protein-GO Associations)"
   ]
  },
  {
   "cell_type": "code",
   "execution_count": null,
   "metadata": {},
   "outputs": [],
   "source": [
    "associations = pd.read_csv(base_dir / \"data/ppi/associations_human.tsv\", sep=\"\\t\")\n",
    "print(f\"test results shape: {associations.shape}\")"
   ]
  },
  {
   "cell_type": "code",
   "execution_count": null,
   "metadata": {},
   "outputs": [],
   "source": [
    "# Get ground-truth\n",
    "\n",
    "ground_truth = associations[[\"uniprot_id\", \"go_id\"]]\n",
    "# ground_truth = ground_truth[ground_truth[\"uniprot_id\"].isin(tested_proteins)]\n",
    "ground_truth = ground_truth[ground_truth[\"go_id\"].isin(predictions[\"GO ID\"])]\n",
    "ground_truth = ground_truth.sort_values(by=\"uniprot_id\")\n",
    "ground_truth.reset_index(drop=True, inplace=True)\n",
    "ground_truth.to_csv(\n",
    "    base_dir / \"ground_truth.txt\",\n",
    "    sep=\"\\t\",\n",
    "    header=False,\n",
    "    index=False,\n",
    "    encoding=\"utf-8\",\n",
    ")\n",
    "ground_truth"
   ]
  },
  {
   "cell_type": "markdown",
   "metadata": {},
   "source": [
    "### Load GO DAG"
   ]
  },
  {
   "cell_type": "code",
   "execution_count": null,
   "metadata": {},
   "outputs": [],
   "source": [
    "from obonet import read_obo\n",
    "go_graph = read_obo(base_dir / \"data/go/go-basic.obo\")\n",
    "print(go_graph)"
   ]
  },
  {
   "cell_type": "code",
   "execution_count": null,
   "metadata": {},
   "outputs": [],
   "source": [
    "# Load IA\n",
    "filepath = Path(\"/media/clever/aidbio/data/cafa5/information_accretion.txt\")\n",
    "ia = pd.read_csv(filepath, sep=\"\\t\")\n",
    "ia = ia[[\"go_id\", \"ia\"]]\n",
    "# ia = ia[ia[\"go_id\"].isin(go_graph.nodes())]\n",
    "ia.reset_index(drop=True, inplace=True)\n",
    "ia.to_csv(\n",
    "    \"ia.txt\",\n",
    "    sep=\"\\t\",\n",
    "    header=False,\n",
    "    index=False,\n",
    "    encoding=\"utf-8\",\n",
    ")\n",
    "ia"
   ]
  },
  {
   "cell_type": "code",
   "execution_count": null,
   "metadata": {},
   "outputs": [],
   "source": [
    "df, dfs_best = cafa_eval(\n",
    "    obo_file=base_dir / \"data/go/go-basic.obo\",\n",
    "    pred_dir=base_dir / \"predictions\",\n",
    "    gt_file=base_dir / \"predictions/ground_truth.txt\",\n",
    "    ia=\"ia.txt\",\n",
    "    no_orphans=False,\n",
    "    norm=\"cafa\",\n",
    "    prop=\"max\",\n",
    "    max_terms=None,\n",
    "    th_step=0.01,\n",
    "    n_cpu=1,\n",
    ")\n",
    "\n",
    "# View the results\n",
    "print(dfs_best)\n",
    "df"
   ]
  },
  {
   "cell_type": "code",
   "execution_count": null,
   "metadata": {},
   "outputs": [],
   "source": []
  }
 ],
 "metadata": {
  "kernelspec": {
   "display_name": "prot2go_pyenv",
   "language": "python",
   "name": "python3"
  },
  "language_info": {
   "codemirror_mode": {
    "name": "ipython",
    "version": 3
   },
   "file_extension": ".py",
   "mimetype": "text/x-python",
   "name": "python",
   "nbconvert_exporter": "python",
   "pygments_lexer": "ipython3",
   "version": "3.12.5"
  }
 },
 "nbformat": 4,
 "nbformat_minor": 2
}
