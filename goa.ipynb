{
 "cells": [
  {
   "cell_type": "markdown",
   "metadata": {},
   "source": [
    "# Gene Ontology Annotations (GOA) Preprocessing\n",
    "Author: Cleverson Matiolli, Ph.D.\n",
    "\n",
    "This notebook focuses on preprocessing the Gene Ontology Annotations (GOA) to:\n",
    "1. Obtain the *ground-truth* of protein-GO term associations\n",
    "2. Calculate the *Information Content (IC)* of GO terms\n",
    "\n",
    "**Key Steps:**\n",
    "1. Download and parse GOA dataset\n",
    "2. Filter GOA dataset by Evidence Codes"
   ]
  },
  {
   "cell_type": "code",
   "execution_count": 5,
   "metadata": {},
   "outputs": [],
   "source": [
    "# Standard libraries\n",
    "import os\n",
    "import math\n",
    "import ftplib\n",
    "from pathlib import Path\n",
    "import gzip\n",
    "\n",
    "# Third-party imports\n",
    "import numpy as np\n",
    "import pandas as pd\n",
    "import matplotlib.pyplot as plt\n",
    "from tqdm.auto import tqdm\n",
    "import bitmath\n",
    "\n",
    "# # Fast I/O imports\n",
    "# import zstandard as zstd\n",
    "# import pyarrow.csv as pv\n",
    "# import pyarrow as pa\n",
    "# import dask.dataframe as dd\n",
    "# import cudf\n",
    "# from dask_cuda import LocalCUDACluster\n",
    "# from dask.distributed import Client\n",
    "\n",
    "# Bioinformatics\n",
    "from Bio import SeqIO\n",
    "from obonet import read_obo\n",
    "\n",
    "# Custom libraries\n",
    "import aid2go.goa as aidgoa\n",
    "import aid2go.utils as aidutils\n",
    "\n",
    "# Configuration\n",
    "pd.options.mode.copy_on_write = True"
   ]
  },
  {
   "cell_type": "markdown",
   "metadata": {},
   "source": [
    "## 1. Download and parse GOA dataset\n",
    "\n",
    "- **Source:** ftp://ftp.ebi.ac.uk/pub/databases/GO/goa/UNIPROT.\n",
    "\n",
    "- **Annotations (goa_uniprot_gcrp.gaf):**: Contains all GO annotations for canonical accessions from the UniProt reference proteomes for all species, which provide one protein per gene. The *reference proteomes comprise the protein sequences annotated in Swiss-Prot or the longest TrEMBL transcript if there is no Swiss-Prot record*.\n",
    "\n",
    "- **Metadata (goa_uniprot_gcrp.gpi):** Contains metadata (name, symbol, synonyms, etc) for all canonical entries from the UniProt reference proteomes for all species, regardless of whether they have GO annotations."
   ]
  },
  {
   "cell_type": "code",
   "execution_count": 7,
   "metadata": {},
   "outputs": [
    {
     "data": {
      "text/plain": [
       "'250 Directory successfully changed.'"
      ]
     },
     "execution_count": 7,
     "metadata": {},
     "output_type": "execute_result"
    }
   ],
   "source": [
    "# Login to FTP GOA directory\n",
    "ftp_url = \"ftp.ebi.ac.uk\"\n",
    "ftp_directory = \"/pub/databases/GO/goa/UNIPROT/\"\n",
    "ftp = ftplib.FTP(ftp_url)\n",
    "ftp.login()  # Anonymous login\n",
    "ftp.cwd(ftp_directory)"
   ]
  },
  {
   "cell_type": "code",
   "execution_count": 8,
   "metadata": {},
   "outputs": [
    {
     "name": "stdout",
     "output_type": "stream",
     "text": [
      "\n",
      "The size of goa_uniprot_gcrp.gaf.gz is 6859.50 MB\n",
      "Download progress: 100.00% (6859.50 MB)\n",
      "Downloaded goa_uniprot_gcrp.gaf.gz successfully to data/goa/goa_uniprot_gcrp.gaf.gz\n"
     ]
    }
   ],
   "source": [
    "# Download annotations (GCPR-SwissProt)\n",
    "aidutils.download_ftp(\n",
    "    ftp_url,\n",
    "    ftp_directory,\n",
    "    \"./data/goa\",\n",
    "    \"goa_uniprot_gcrp.gaf.gz\",\n",
    ")"
   ]
  },
  {
   "cell_type": "code",
   "execution_count": 9,
   "metadata": {},
   "outputs": [
    {
     "name": "stdout",
     "output_type": "stream",
     "text": [
      "\n",
      "The size of goa_uniprot_gcrp.gpi.gz is 1489.65 MB\n",
      "Download progress: 100.00% (1489.65 MB)\n",
      "Downloaded goa_uniprot_gcrp.gpi.gz successfully to data/goa/goa_uniprot_gcrp.gpi.gz\n"
     ]
    }
   ],
   "source": [
    "# Download metadata\n",
    "aidutils.download_ftp(\n",
    "    ftp_url,\n",
    "    ftp_directory,\n",
    "    \"./data/goa\",\n",
    "    \"goa_uniprot_gcrp.gpi.gz\",\n",
    ")"
   ]
  },
  {
   "cell_type": "markdown",
   "metadata": {},
   "source": [
    "## 2. Filter GOA dataset by Evidence Codes\n",
    "\n",
    "- **Obsolete Terms**: The GO ontology has been updated to include new terms and to correct and improve the definitions of existing terms. The obsolete terms are no longer considered valid for annotation.\n",
    "\n",
    "- **Code list**: The GO AID2GO library provides a list of evidence codes (EVS) and their definitions. The evidence code list used for automatic annotation experiments contains **experimental**, **high throughput** and **infered by curator or traceable author statement**, as defined by CAFA5."
   ]
  },
  {
   "cell_type": "code",
   "execution_count": 10,
   "metadata": {},
   "outputs": [
    {
     "name": "stdout",
     "output_type": "stream",
     "text": [
      "Selected evidence codes: ['EXP', 'IDA', 'IPI', 'IMP', 'IGI', 'IEP', 'HTP', 'HDA', 'HMP', 'HGI', 'HEP', 'IC', 'TAS']\n"
     ]
    }
   ],
   "source": [
    "# Get evidence codes (experimental only)\n",
    "experiment_codes = list(aidgoa.experimental_evidence_codes.keys())\n",
    "highthroughput_codes = list(aidgoa.highthroughput_evidence_codes.keys())\n",
    "expert_codes = list(aidgoa.statement_evidence_codes.keys())\n",
    "\n",
    "selected_evidence_codes = experiment_codes + highthroughput_codes + expert_codes\n",
    "print(f\"Selected evidence codes: {selected_evidence_codes}\")"
   ]
  },
  {
   "cell_type": "code",
   "execution_count": null,
   "metadata": {},
   "outputs": [
    {
     "name": "stderr",
     "output_type": "stream",
     "text": [
      "Loading and filtering GAF file in chunks:   2%|▏         | 1/59 [00:29<28:51, 29.85s/it]"
     ]
    }
   ],
   "source": [
    "# Filter GOA dataset\n",
    "gaf_file = Path(\"./data/goa/goa_uniprot_gcrp.gaf.gz\")\n",
    "save_path = Path(\"./data/goa\")\n",
    "save_path.mkdir(parents=True, exist_ok=True)\n",
    "\n",
    "associations_df, annot_df, evidence_freq = aidgoa.filter_goa_by_evidence(\n",
    "    gaf_file=gaf_file,\n",
    "    evidence_codes=experiment_codes,\n",
    "    chunk_size=20000000,\n",
    "    remove_obsolete_terms=True,\n",
    "    generate_annot_file=True,\n",
    "    save_path=save_path,\n",
    ")\n",
    "\n",
    "print(associations_df.shape)\n",
    "associations_df.head()"
   ]
  },
  {
   "cell_type": "code",
   "execution_count": null,
   "metadata": {},
   "outputs": [],
   "source": [
    "# Load preprocessed associations\n",
    "associations_df = pd.read_csv(\"./data/goa/goa_hc.tsv\", sep=\"\\t\")\n",
    "print(associations_df.shape)\n",
    "associations_df.head()"
   ]
  },
  {
   "cell_type": "code",
   "execution_count": null,
   "metadata": {},
   "outputs": [],
   "source": [
    "# Unique protein identifiers (GO terms and proteins)\n",
    "\n",
    "unique_goterms = associations_df[\"go_id\"].unique()\n",
    "print(f\"Number of GO terms: {len(unique_goterms)}\")\n",
    "\n",
    "unique_proteins = associations_df[\"uniprot_id\"].unique()\n",
    "print(f\"Number of unique proteins: {len(unique_proteins)}\")"
   ]
  }
 ],
 "metadata": {
  "kernelspec": {
   "display_name": "aid2go",
   "language": "python",
   "name": "python3"
  },
  "language_info": {
   "codemirror_mode": {
    "name": "ipython",
    "version": 3
   },
   "file_extension": ".py",
   "mimetype": "text/x-python",
   "name": "python",
   "nbconvert_exporter": "python",
   "pygments_lexer": "ipython3",
   "version": "3.12.5"
  }
 },
 "nbformat": 4,
 "nbformat_minor": 2
}
